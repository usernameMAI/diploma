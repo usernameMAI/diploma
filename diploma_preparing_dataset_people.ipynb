{
 "cells": [
  {
   "cell_type": "code",
   "execution_count": 1,
   "outputs": [],
   "source": [
    "import pandas as pd"
   ],
   "metadata": {
    "collapsed": false,
    "ExecuteTime": {
     "end_time": "2024-05-28T20:07:03.111702Z",
     "start_time": "2024-05-28T20:07:03.087224900Z"
    }
   },
   "id": "71b39dd76a7197a"
  },
  {
   "cell_type": "markdown",
   "source": [
    "Сделаем один датасет со всеми необходимыми для анализа полями"
   ],
   "metadata": {
    "collapsed": false
   },
   "id": "b02caabadad60604"
  },
  {
   "cell_type": "code",
   "execution_count": 2,
   "outputs": [],
   "source": [
    "artem_data = 'data/artem_data.xlsx'\n",
    "students_data = 'data/students_data.xlsx'\n",
    "diag_work_data = 'data/diagwork_data.csv'\n",
    "salary_data = 'data/salaries.xlsx'"
   ],
   "metadata": {
    "collapsed": false,
    "ExecuteTime": {
     "end_time": "2024-05-28T20:07:03.112655300Z",
     "start_time": "2024-05-28T20:07:03.100068Z"
    }
   },
   "id": "176683ec7b3c1196"
  },
  {
   "cell_type": "code",
   "execution_count": 3,
   "outputs": [
    {
     "name": "stderr",
     "output_type": "stream",
     "text": [
      "D:\\diploma\\venv\\lib\\site-packages\\openpyxl\\worksheet\\_reader.py:329: UserWarning: Conditional Formatting extension is not supported and will be removed\n",
      "  warn(msg)\n"
     ]
    }
   ],
   "source": [
    "artem_data_df = pd.read_excel(artem_data)\n",
    "students_data_df = pd.read_excel(students_data)\n",
    "diag_work_data_df = pd.read_csv(diag_work_data, low_memory=False)\n",
    "salary_data_df = pd.read_excel(salary_data)"
   ],
   "metadata": {
    "collapsed": false,
    "ExecuteTime": {
     "end_time": "2024-05-28T20:07:36.274744500Z",
     "start_time": "2024-05-28T20:07:03.109181600Z"
    }
   },
   "id": "338aad4d42fa6886"
  },
  {
   "cell_type": "markdown",
   "source": [
    "Добавим регион"
   ],
   "metadata": {
    "collapsed": false
   },
   "id": "9e6b4a90d628dc8"
  },
  {
   "cell_type": "code",
   "execution_count": 4,
   "outputs": [],
   "source": [
    "df = pd.merge(\n",
    "    artem_data_df, \n",
    "    students_data_df[['№', 'Регион_т']], \n",
    "    left_on='Number',\n",
    "    right_on='№', \n",
    "    how='left'\n",
    ")\n",
    "del df['№']"
   ],
   "metadata": {
    "collapsed": false,
    "ExecuteTime": {
     "end_time": "2024-05-28T20:07:36.310150200Z",
     "start_time": "2024-05-28T20:07:36.276756300Z"
    }
   },
   "id": "da3a1f8128d868a4"
  },
  {
   "cell_type": "markdown",
   "source": [
    "Добавим id школы"
   ],
   "metadata": {
    "collapsed": false
   },
   "id": "1724708721c168c"
  },
  {
   "cell_type": "code",
   "execution_count": 5,
   "outputs": [],
   "source": [
    "df = pd.merge(\n",
    "    df, \n",
    "    diag_work_data_df[['№', 'Логин_ОО']], \n",
    "    left_on='Number', \n",
    "    right_on='№', \n",
    "    how='left'\n",
    ")\n",
    "del df['№']"
   ],
   "metadata": {
    "collapsed": false,
    "ExecuteTime": {
     "end_time": "2024-05-28T20:07:36.337484600Z",
     "start_time": "2024-05-28T20:07:36.310150200Z"
    }
   },
   "id": "6c3ba878583f9890"
  },
  {
   "cell_type": "markdown",
   "source": [
    "Добавим зарплату в регионе"
   ],
   "metadata": {
    "collapsed": false
   },
   "id": "28739da266279c82"
  },
  {
   "cell_type": "code",
   "execution_count": 6,
   "outputs": [],
   "source": [
    "df = pd.merge(\n",
    "    df, salary_data_df, on='Регион_т', how='left'\n",
    ")"
   ],
   "metadata": {
    "collapsed": false,
    "ExecuteTime": {
     "end_time": "2024-05-28T20:07:36.365763300Z",
     "start_time": "2024-05-28T20:07:36.336476600Z"
    }
   },
   "id": "3da1eec31e491804"
  },
  {
   "cell_type": "markdown",
   "source": [
    "Добавим первичный балл диагностической работы"
   ],
   "metadata": {
    "collapsed": false
   },
   "id": "ea765433117f4017"
  },
  {
   "cell_type": "code",
   "execution_count": 7,
   "outputs": [],
   "source": [
    "df = pd.merge(\n",
    "    df, \n",
    "    diag_work_data_df[['№', 'ПБ']], \n",
    "    left_on='Number', \n",
    "    right_on='№', \n",
    "    how='left'\n",
    ")\n",
    "del df['№']"
   ],
   "metadata": {
    "collapsed": false,
    "ExecuteTime": {
     "end_time": "2024-05-28T20:07:36.387931900Z",
     "start_time": "2024-05-28T20:07:36.362747100Z"
    }
   },
   "id": "b5f96d97889da28c"
  },
  {
   "cell_type": "markdown",
   "source": [
    "Переименуем столбцы"
   ],
   "metadata": {
    "collapsed": false
   },
   "id": "fcc93c68c3035d9d"
  },
  {
   "cell_type": "code",
   "execution_count": 8,
   "outputs": [],
   "source": [
    "df.rename(\n",
    "    columns={\n",
    "        'Region': 'District', \n",
    "        'Регион_т': 'Region', \n",
    "        'Зарплата': 'Salary'\n",
    "    }, \n",
    "    inplace=True\n",
    ")"
   ],
   "metadata": {
    "collapsed": false,
    "ExecuteTime": {
     "end_time": "2024-05-28T20:07:36.397982100Z",
     "start_time": "2024-05-28T20:07:36.385941100Z"
    }
   },
   "id": "206183acd37a83b2"
  },
  {
   "cell_type": "markdown",
   "source": [
    "Изменим порядок полей"
   ],
   "metadata": {
    "collapsed": false
   },
   "id": "4976fa8e70816c7a"
  },
  {
   "cell_type": "code",
   "execution_count": 9,
   "outputs": [],
   "source": [
    "new_order = [\n",
    "    'Number', 'Логин_ОО', 'Class', 'Sex', 'Rus', 'Math', 'ПБ',\n",
    "    'Family', 'District', 'Region', 'Salary',\n",
    "    'History Knowledge Index', 'Family Life Index', 'Culture Index',\n",
    "]\n",
    "df = df[new_order]"
   ],
   "metadata": {
    "collapsed": false,
    "ExecuteTime": {
     "end_time": "2024-05-28T20:07:36.411294700Z",
     "start_time": "2024-05-28T20:07:36.395978500Z"
    }
   },
   "id": "fded727a4e6ad20"
  },
  {
   "cell_type": "markdown",
   "source": [
    "Объединим \"Северо-Кавказский федеральный округ\" и \"Южный федеральный округ\""
   ],
   "metadata": {
    "collapsed": false
   },
   "id": "9d26735899b76c45"
  },
  {
   "cell_type": "code",
   "execution_count": 10,
   "outputs": [],
   "source": [
    "df['District'] = df['District'].replace(\n",
    "    'Северо-Кавказский федеральный округ', 'Южный федеральный округ'\n",
    ")"
   ],
   "metadata": {
    "collapsed": false,
    "ExecuteTime": {
     "end_time": "2024-05-28T20:07:36.422890900Z",
     "start_time": "2024-05-28T20:07:36.407739300Z"
    }
   },
   "id": "659c22d03572ce61"
  },
  {
   "cell_type": "markdown",
   "source": [
    "Уберем из выборки данные, где нет данных о семье, об оценке"
   ],
   "metadata": {
    "collapsed": false
   },
   "id": "dc67d2fd5caea99d"
  },
  {
   "cell_type": "code",
   "execution_count": 11,
   "outputs": [],
   "source": [
    "df = df[df['Family'] != 'Нет четкого ответа']\n",
    "df = df[df['Math'] != 'нет отметки']\n",
    "df = df[df['Rus'] != 'нет отметки']"
   ],
   "metadata": {
    "collapsed": false,
    "ExecuteTime": {
     "end_time": "2024-05-28T20:07:36.463001200Z",
     "start_time": "2024-05-28T20:07:36.416671700Z"
    }
   },
   "id": "c6af03e2ad60ad62"
  },
  {
   "cell_type": "markdown",
   "source": [
    "Объединим расширенные и полные школы, переименуем \"Многодетная\" на \"Многодетная полная\""
   ],
   "metadata": {
    "collapsed": false
   },
   "id": "dcd5c5a8ad44cb0d"
  },
  {
   "cell_type": "code",
   "execution_count": 12,
   "outputs": [],
   "source": [
    "df['Family'] = df['Family'].replace('Расширенная', 'Полная')\n",
    "df['Family'] = df['Family'].replace('Многодетная', 'Многодетная полная')"
   ],
   "metadata": {
    "collapsed": false,
    "ExecuteTime": {
     "end_time": "2024-05-28T20:07:36.489638800Z",
     "start_time": "2024-05-28T20:07:36.459425900Z"
    }
   },
   "id": "bde722f38b01f308"
  },
  {
   "cell_type": "markdown",
   "source": [
    "Отсортируем данные по логину для удобства просмотра"
   ],
   "metadata": {
    "collapsed": false
   },
   "id": "3d1de1ba078cbde"
  },
  {
   "cell_type": "code",
   "execution_count": 13,
   "outputs": [],
   "source": [
    "df = df.sort_values(by='Логин_ОО', ascending=True)"
   ],
   "metadata": {
    "collapsed": false,
    "ExecuteTime": {
     "end_time": "2024-05-28T20:07:36.539366300Z",
     "start_time": "2024-05-28T20:07:36.487099400Z"
    }
   },
   "id": "8f8d7d4a3358afbe"
  },
  {
   "cell_type": "markdown",
   "source": [
    "Посмотрим данные"
   ],
   "metadata": {
    "collapsed": false
   },
   "id": "a71c53745451f693"
  },
  {
   "cell_type": "code",
   "execution_count": 14,
   "outputs": [
    {
     "data": {
      "text/plain": "        Number   Логин_ОО  Class       Sex Rus Math  ПБ              Family  \\\n651    1904174  edu030331      6  Мальчики   4    5  10              Полная   \n211    2073399  edu030331      8   Девочки   4    4  12              Полная   \n223    2073406  edu030331      8   Девочки   5    4   6            Неполная   \n227    2073398  edu030331      8   Девочки   4    3  12              Полная   \n93     2120327  edu030331      8   Девочки   4    4  10  Многодетная полная   \n...        ...        ...    ...       ...  ..  ...  ..                 ...   \n39480  2081261  edu893072      8   Девочки   4    4   7  Многодетная полная   \n39479  2081265  edu893072      8  Мальчики   3    3  11            Неполная   \n39478  2081246  edu893072      8  Мальчики   3    3   8              Полная   \n39489  1921602  edu893072      6  Мальчики   4    4   8  Многодетная полная   \n39475  2081284  edu893072      8   Девочки   4    4  12            Неполная   \n\n                                District                           Region  \\\n651    Дальневосточный федеральный округ               Республика Бурятия   \n211    Дальневосточный федеральный округ               Республика Бурятия   \n223    Дальневосточный федеральный округ               Республика Бурятия   \n227    Дальневосточный федеральный округ               Республика Бурятия   \n93     Дальневосточный федеральный округ               Республика Бурятия   \n...                                  ...                              ...   \n39480        Уральский федеральный округ  Ямало-Ненецкий автономный округ   \n39479        Уральский федеральный округ  Ямало-Ненецкий автономный округ   \n39478        Уральский федеральный округ  Ямало-Ненецкий автономный округ   \n39489        Уральский федеральный округ  Ямало-Ненецкий автономный округ   \n39475        Уральский федеральный округ  Ямало-Ненецкий автономный округ   \n\n         Salary  History Knowledge Index  Family Life Index  Culture Index  \n651     37297.2                        2                  2              2  \n211     37297.2                        2                  3              2  \n223     37297.2                        2                  1              2  \n227     37297.2                        2                  2              2  \n93      37297.2                        2                  2              3  \n...         ...                      ...                ...            ...  \n39480  100527.6                        2                  1              2  \n39479  100527.6                        1                  2              2  \n39478  100527.6                        2                  2              2  \n39489  100527.6                        2                  2              2  \n39475  100527.6                        2                  2              3  \n\n[39430 rows x 14 columns]",
      "text/html": "<div>\n<style scoped>\n    .dataframe tbody tr th:only-of-type {\n        vertical-align: middle;\n    }\n\n    .dataframe tbody tr th {\n        vertical-align: top;\n    }\n\n    .dataframe thead th {\n        text-align: right;\n    }\n</style>\n<table border=\"1\" class=\"dataframe\">\n  <thead>\n    <tr style=\"text-align: right;\">\n      <th></th>\n      <th>Number</th>\n      <th>Логин_ОО</th>\n      <th>Class</th>\n      <th>Sex</th>\n      <th>Rus</th>\n      <th>Math</th>\n      <th>ПБ</th>\n      <th>Family</th>\n      <th>District</th>\n      <th>Region</th>\n      <th>Salary</th>\n      <th>History Knowledge Index</th>\n      <th>Family Life Index</th>\n      <th>Culture Index</th>\n    </tr>\n  </thead>\n  <tbody>\n    <tr>\n      <th>651</th>\n      <td>1904174</td>\n      <td>edu030331</td>\n      <td>6</td>\n      <td>Мальчики</td>\n      <td>4</td>\n      <td>5</td>\n      <td>10</td>\n      <td>Полная</td>\n      <td>Дальневосточный федеральный округ</td>\n      <td>Республика Бурятия</td>\n      <td>37297.2</td>\n      <td>2</td>\n      <td>2</td>\n      <td>2</td>\n    </tr>\n    <tr>\n      <th>211</th>\n      <td>2073399</td>\n      <td>edu030331</td>\n      <td>8</td>\n      <td>Девочки</td>\n      <td>4</td>\n      <td>4</td>\n      <td>12</td>\n      <td>Полная</td>\n      <td>Дальневосточный федеральный округ</td>\n      <td>Республика Бурятия</td>\n      <td>37297.2</td>\n      <td>2</td>\n      <td>3</td>\n      <td>2</td>\n    </tr>\n    <tr>\n      <th>223</th>\n      <td>2073406</td>\n      <td>edu030331</td>\n      <td>8</td>\n      <td>Девочки</td>\n      <td>5</td>\n      <td>4</td>\n      <td>6</td>\n      <td>Неполная</td>\n      <td>Дальневосточный федеральный округ</td>\n      <td>Республика Бурятия</td>\n      <td>37297.2</td>\n      <td>2</td>\n      <td>1</td>\n      <td>2</td>\n    </tr>\n    <tr>\n      <th>227</th>\n      <td>2073398</td>\n      <td>edu030331</td>\n      <td>8</td>\n      <td>Девочки</td>\n      <td>4</td>\n      <td>3</td>\n      <td>12</td>\n      <td>Полная</td>\n      <td>Дальневосточный федеральный округ</td>\n      <td>Республика Бурятия</td>\n      <td>37297.2</td>\n      <td>2</td>\n      <td>2</td>\n      <td>2</td>\n    </tr>\n    <tr>\n      <th>93</th>\n      <td>2120327</td>\n      <td>edu030331</td>\n      <td>8</td>\n      <td>Девочки</td>\n      <td>4</td>\n      <td>4</td>\n      <td>10</td>\n      <td>Многодетная полная</td>\n      <td>Дальневосточный федеральный округ</td>\n      <td>Республика Бурятия</td>\n      <td>37297.2</td>\n      <td>2</td>\n      <td>2</td>\n      <td>3</td>\n    </tr>\n    <tr>\n      <th>...</th>\n      <td>...</td>\n      <td>...</td>\n      <td>...</td>\n      <td>...</td>\n      <td>...</td>\n      <td>...</td>\n      <td>...</td>\n      <td>...</td>\n      <td>...</td>\n      <td>...</td>\n      <td>...</td>\n      <td>...</td>\n      <td>...</td>\n      <td>...</td>\n    </tr>\n    <tr>\n      <th>39480</th>\n      <td>2081261</td>\n      <td>edu893072</td>\n      <td>8</td>\n      <td>Девочки</td>\n      <td>4</td>\n      <td>4</td>\n      <td>7</td>\n      <td>Многодетная полная</td>\n      <td>Уральский федеральный округ</td>\n      <td>Ямало-Ненецкий автономный округ</td>\n      <td>100527.6</td>\n      <td>2</td>\n      <td>1</td>\n      <td>2</td>\n    </tr>\n    <tr>\n      <th>39479</th>\n      <td>2081265</td>\n      <td>edu893072</td>\n      <td>8</td>\n      <td>Мальчики</td>\n      <td>3</td>\n      <td>3</td>\n      <td>11</td>\n      <td>Неполная</td>\n      <td>Уральский федеральный округ</td>\n      <td>Ямало-Ненецкий автономный округ</td>\n      <td>100527.6</td>\n      <td>1</td>\n      <td>2</td>\n      <td>2</td>\n    </tr>\n    <tr>\n      <th>39478</th>\n      <td>2081246</td>\n      <td>edu893072</td>\n      <td>8</td>\n      <td>Мальчики</td>\n      <td>3</td>\n      <td>3</td>\n      <td>8</td>\n      <td>Полная</td>\n      <td>Уральский федеральный округ</td>\n      <td>Ямало-Ненецкий автономный округ</td>\n      <td>100527.6</td>\n      <td>2</td>\n      <td>2</td>\n      <td>2</td>\n    </tr>\n    <tr>\n      <th>39489</th>\n      <td>1921602</td>\n      <td>edu893072</td>\n      <td>6</td>\n      <td>Мальчики</td>\n      <td>4</td>\n      <td>4</td>\n      <td>8</td>\n      <td>Многодетная полная</td>\n      <td>Уральский федеральный округ</td>\n      <td>Ямало-Ненецкий автономный округ</td>\n      <td>100527.6</td>\n      <td>2</td>\n      <td>2</td>\n      <td>2</td>\n    </tr>\n    <tr>\n      <th>39475</th>\n      <td>2081284</td>\n      <td>edu893072</td>\n      <td>8</td>\n      <td>Девочки</td>\n      <td>4</td>\n      <td>4</td>\n      <td>12</td>\n      <td>Неполная</td>\n      <td>Уральский федеральный округ</td>\n      <td>Ямало-Ненецкий автономный округ</td>\n      <td>100527.6</td>\n      <td>2</td>\n      <td>2</td>\n      <td>3</td>\n    </tr>\n  </tbody>\n</table>\n<p>39430 rows × 14 columns</p>\n</div>"
     },
     "execution_count": 14,
     "metadata": {},
     "output_type": "execute_result"
    }
   ],
   "source": [
    "df  "
   ],
   "metadata": {
    "collapsed": false,
    "ExecuteTime": {
     "end_time": "2024-05-28T20:07:36.554723100Z",
     "start_time": "2024-05-28T20:07:36.527706300Z"
    }
   },
   "id": "f0bac250f9a87e1d"
  },
  {
   "cell_type": "markdown",
   "source": [
    "Сохраним датасет в файл \"data_people.csv\""
   ],
   "metadata": {
    "collapsed": false
   },
   "id": "318971a597863572"
  },
  {
   "cell_type": "code",
   "execution_count": 15,
   "outputs": [],
   "source": [
    "data = 'data/data_people.csv'\n",
    "df.to_csv(data, index=False)"
   ],
   "metadata": {
    "collapsed": false,
    "ExecuteTime": {
     "end_time": "2024-05-28T20:07:36.781506800Z",
     "start_time": "2024-05-28T20:07:36.553725500Z"
    }
   },
   "id": "cd60dab6f7cf733e"
  }
 ],
 "metadata": {
  "kernelspec": {
   "display_name": "Python 3",
   "language": "python",
   "name": "python3"
  },
  "language_info": {
   "codemirror_mode": {
    "name": "ipython",
    "version": 2
   },
   "file_extension": ".py",
   "mimetype": "text/x-python",
   "name": "python",
   "nbconvert_exporter": "python",
   "pygments_lexer": "ipython2",
   "version": "2.7.6"
  }
 },
 "nbformat": 4,
 "nbformat_minor": 5
}
