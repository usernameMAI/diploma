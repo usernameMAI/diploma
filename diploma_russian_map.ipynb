{
 "cells": [
  {
   "cell_type": "code",
   "execution_count": 1,
   "outputs": [],
   "source": [
    "import geopandas as gpd\n",
    "import pandas as pd\n",
    "import folium\n",
    "from folium.plugins import HeatMap"
   ],
   "metadata": {
    "collapsed": false,
    "ExecuteTime": {
     "end_time": "2024-05-28T20:10:47.707757300Z",
     "start_time": "2024-05-28T20:10:45.583892400Z"
    }
   },
   "id": "d4f410620d531d2f"
  },
  {
   "cell_type": "code",
   "execution_count": 2,
   "outputs": [],
   "source": [
    "gdf = gpd.read_file('russia.geojson')"
   ],
   "metadata": {
    "collapsed": false,
    "ExecuteTime": {
     "end_time": "2024-05-28T20:11:02.920926500Z",
     "start_time": "2024-05-28T20:10:47.707757300Z"
    }
   },
   "id": "3c50361e1cae7e08"
  },
  {
   "cell_type": "code",
   "execution_count": 3,
   "outputs": [],
   "source": [
    "df = pd.read_csv('data/data_agglomerative.csv', low_memory=False)"
   ],
   "metadata": {
    "collapsed": false,
    "ExecuteTime": {
     "end_time": "2024-05-28T20:11:02.940730700Z",
     "start_time": "2024-05-28T20:11:02.925987100Z"
    }
   },
   "id": "37c0623bc63d6312"
  },
  {
   "cell_type": "markdown",
   "source": [
    "Заменим номер кластеров так, чтобы 1 был самый плохой, а 6 самый лучший"
   ],
   "metadata": {
    "collapsed": false
   },
   "id": "528cc59e62de52ed"
  },
  {
   "cell_type": "code",
   "execution_count": 4,
   "outputs": [],
   "source": [
    "new_order = {\n",
    "    3: 6, \n",
    "    1: 5, \n",
    "    5: 4, \n",
    "    4: 3, \n",
    "    0: 2, \n",
    "    2: 1,\n",
    "}\n",
    "df['cluster'] = df['cluster'].map(new_order)"
   ],
   "metadata": {
    "collapsed": false,
    "ExecuteTime": {
     "end_time": "2024-05-28T20:11:02.947715200Z",
     "start_time": "2024-05-28T20:11:02.942695100Z"
    }
   },
   "id": "14e9d0683dca7dce"
  },
  {
   "cell_type": "markdown",
   "source": [
    "Подсчитаем количество объектов в каждом регионе"
   ],
   "metadata": {
    "collapsed": false
   },
   "id": "916293d75d21ec57"
  },
  {
   "cell_type": "code",
   "execution_count": 5,
   "outputs": [
    {
     "data": {
      "text/plain": "                                 Region  object_count\n0                    Краснодарский край            25\n1      Республика Татарстан (Татарстан)            24\n2                    г. Санкт-Петербург            21\n3                  Свердловская область            21\n4                   Воронежская область            18\n5                       Приморский край            18\n6                 Новосибирская область            17\n7                   Кемеровская область            16\n8                     Самарская область            15\n9                 Нижегородская область            14\n10                       Омская область            14\n11                    Иркутская область            14\n12                     Тульская область            12\n13                Удмуртская Республика            11\n14                  Республика Марий Эл            10\n15                 Владимирская область            10\n16                     Брянская область             9\n17                  Ярославская область             9\n18                   Республика Бурятия             9\n19                     Хабаровский край             8\n20                    Калужская область             8\n21                     Тверская область             8\n22                    Кировская область             8\n23                   Забайкальский край             7\n24                   Пензенская область             7\n25                    Орловская область             7\n26                     Липецкая область             7\n27             Республика Саха (Якутия)             6\n28                    Тюменская область             6\n29                        Пермский край             6\n30                 Белгородская область             6\n31                   Курганская область             6\n32                  Республика Дагестан             5\n33                      Курская область             5\n34                  Сахалинская область             4\n35                  Республика Калмыкия             4\n36                   Тамбовская область             4\n37      Кабардино-Балкарская Республика             4\n38                   Республика Карелия             4\n39                    Рязанская область             4\n40  Республика Северная Осетия - Алания             4\n41                      Республика Коми             3\n42                      Республика Тыва             3\n43                      Томская область             3\n44                     Амурская область             3\n45              Калининградская область             3\n46                  Ульяновская область             3\n47                   Мурманская область             3\n48                  Костромская область             2\n49                     Республика Алтай             2\n50         Еврейская автономная область             1\n51            Ненецкий автономный округ             1\n52      Ямало-Ненецкий автономный округ             1",
      "text/html": "<div>\n<style scoped>\n    .dataframe tbody tr th:only-of-type {\n        vertical-align: middle;\n    }\n\n    .dataframe tbody tr th {\n        vertical-align: top;\n    }\n\n    .dataframe thead th {\n        text-align: right;\n    }\n</style>\n<table border=\"1\" class=\"dataframe\">\n  <thead>\n    <tr style=\"text-align: right;\">\n      <th></th>\n      <th>Region</th>\n      <th>object_count</th>\n    </tr>\n  </thead>\n  <tbody>\n    <tr>\n      <th>0</th>\n      <td>Краснодарский край</td>\n      <td>25</td>\n    </tr>\n    <tr>\n      <th>1</th>\n      <td>Республика Татарстан (Татарстан)</td>\n      <td>24</td>\n    </tr>\n    <tr>\n      <th>2</th>\n      <td>г. Санкт-Петербург</td>\n      <td>21</td>\n    </tr>\n    <tr>\n      <th>3</th>\n      <td>Свердловская область</td>\n      <td>21</td>\n    </tr>\n    <tr>\n      <th>4</th>\n      <td>Воронежская область</td>\n      <td>18</td>\n    </tr>\n    <tr>\n      <th>5</th>\n      <td>Приморский край</td>\n      <td>18</td>\n    </tr>\n    <tr>\n      <th>6</th>\n      <td>Новосибирская область</td>\n      <td>17</td>\n    </tr>\n    <tr>\n      <th>7</th>\n      <td>Кемеровская область</td>\n      <td>16</td>\n    </tr>\n    <tr>\n      <th>8</th>\n      <td>Самарская область</td>\n      <td>15</td>\n    </tr>\n    <tr>\n      <th>9</th>\n      <td>Нижегородская область</td>\n      <td>14</td>\n    </tr>\n    <tr>\n      <th>10</th>\n      <td>Омская область</td>\n      <td>14</td>\n    </tr>\n    <tr>\n      <th>11</th>\n      <td>Иркутская область</td>\n      <td>14</td>\n    </tr>\n    <tr>\n      <th>12</th>\n      <td>Тульская область</td>\n      <td>12</td>\n    </tr>\n    <tr>\n      <th>13</th>\n      <td>Удмуртская Республика</td>\n      <td>11</td>\n    </tr>\n    <tr>\n      <th>14</th>\n      <td>Республика Марий Эл</td>\n      <td>10</td>\n    </tr>\n    <tr>\n      <th>15</th>\n      <td>Владимирская область</td>\n      <td>10</td>\n    </tr>\n    <tr>\n      <th>16</th>\n      <td>Брянская область</td>\n      <td>9</td>\n    </tr>\n    <tr>\n      <th>17</th>\n      <td>Ярославская область</td>\n      <td>9</td>\n    </tr>\n    <tr>\n      <th>18</th>\n      <td>Республика Бурятия</td>\n      <td>9</td>\n    </tr>\n    <tr>\n      <th>19</th>\n      <td>Хабаровский край</td>\n      <td>8</td>\n    </tr>\n    <tr>\n      <th>20</th>\n      <td>Калужская область</td>\n      <td>8</td>\n    </tr>\n    <tr>\n      <th>21</th>\n      <td>Тверская область</td>\n      <td>8</td>\n    </tr>\n    <tr>\n      <th>22</th>\n      <td>Кировская область</td>\n      <td>8</td>\n    </tr>\n    <tr>\n      <th>23</th>\n      <td>Забайкальский край</td>\n      <td>7</td>\n    </tr>\n    <tr>\n      <th>24</th>\n      <td>Пензенская область</td>\n      <td>7</td>\n    </tr>\n    <tr>\n      <th>25</th>\n      <td>Орловская область</td>\n      <td>7</td>\n    </tr>\n    <tr>\n      <th>26</th>\n      <td>Липецкая область</td>\n      <td>7</td>\n    </tr>\n    <tr>\n      <th>27</th>\n      <td>Республика Саха (Якутия)</td>\n      <td>6</td>\n    </tr>\n    <tr>\n      <th>28</th>\n      <td>Тюменская область</td>\n      <td>6</td>\n    </tr>\n    <tr>\n      <th>29</th>\n      <td>Пермский край</td>\n      <td>6</td>\n    </tr>\n    <tr>\n      <th>30</th>\n      <td>Белгородская область</td>\n      <td>6</td>\n    </tr>\n    <tr>\n      <th>31</th>\n      <td>Курганская область</td>\n      <td>6</td>\n    </tr>\n    <tr>\n      <th>32</th>\n      <td>Республика Дагестан</td>\n      <td>5</td>\n    </tr>\n    <tr>\n      <th>33</th>\n      <td>Курская область</td>\n      <td>5</td>\n    </tr>\n    <tr>\n      <th>34</th>\n      <td>Сахалинская область</td>\n      <td>4</td>\n    </tr>\n    <tr>\n      <th>35</th>\n      <td>Республика Калмыкия</td>\n      <td>4</td>\n    </tr>\n    <tr>\n      <th>36</th>\n      <td>Тамбовская область</td>\n      <td>4</td>\n    </tr>\n    <tr>\n      <th>37</th>\n      <td>Кабардино-Балкарская Республика</td>\n      <td>4</td>\n    </tr>\n    <tr>\n      <th>38</th>\n      <td>Республика Карелия</td>\n      <td>4</td>\n    </tr>\n    <tr>\n      <th>39</th>\n      <td>Рязанская область</td>\n      <td>4</td>\n    </tr>\n    <tr>\n      <th>40</th>\n      <td>Республика Северная Осетия - Алания</td>\n      <td>4</td>\n    </tr>\n    <tr>\n      <th>41</th>\n      <td>Республика Коми</td>\n      <td>3</td>\n    </tr>\n    <tr>\n      <th>42</th>\n      <td>Республика Тыва</td>\n      <td>3</td>\n    </tr>\n    <tr>\n      <th>43</th>\n      <td>Томская область</td>\n      <td>3</td>\n    </tr>\n    <tr>\n      <th>44</th>\n      <td>Амурская область</td>\n      <td>3</td>\n    </tr>\n    <tr>\n      <th>45</th>\n      <td>Калининградская область</td>\n      <td>3</td>\n    </tr>\n    <tr>\n      <th>46</th>\n      <td>Ульяновская область</td>\n      <td>3</td>\n    </tr>\n    <tr>\n      <th>47</th>\n      <td>Мурманская область</td>\n      <td>3</td>\n    </tr>\n    <tr>\n      <th>48</th>\n      <td>Костромская область</td>\n      <td>2</td>\n    </tr>\n    <tr>\n      <th>49</th>\n      <td>Республика Алтай</td>\n      <td>2</td>\n    </tr>\n    <tr>\n      <th>50</th>\n      <td>Еврейская автономная область</td>\n      <td>1</td>\n    </tr>\n    <tr>\n      <th>51</th>\n      <td>Ненецкий автономный округ</td>\n      <td>1</td>\n    </tr>\n    <tr>\n      <th>52</th>\n      <td>Ямало-Ненецкий автономный округ</td>\n      <td>1</td>\n    </tr>\n  </tbody>\n</table>\n</div>"
     },
     "execution_count": 5,
     "metadata": {},
     "output_type": "execute_result"
    }
   ],
   "source": [
    "df_cluster = df.copy()\n",
    "objects_by_region = df_cluster['Region'].value_counts().reset_index()\n",
    "objects_by_region.columns = ['Region', 'object_count']\n",
    "objects_by_region"
   ],
   "metadata": {
    "collapsed": false,
    "ExecuteTime": {
     "end_time": "2024-05-28T20:11:03.006957900Z",
     "start_time": "2024-05-28T20:11:02.952354600Z"
    }
   },
   "id": "18c07124a6bc8207"
  },
  {
   "cell_type": "code",
   "execution_count": 6,
   "outputs": [],
   "source": [
    "# Присоединим данные к GeoDataFrame\n",
    "gdf_regions = gdf.merge(objects_by_region, how=\"left\", left_on='region', right_on='Region')"
   ],
   "metadata": {
    "collapsed": false,
    "ExecuteTime": {
     "end_time": "2024-05-28T20:11:03.008961300Z",
     "start_time": "2024-05-28T20:11:02.973626800Z"
    }
   },
   "id": "176656f51ca7f096"
  },
  {
   "cell_type": "code",
   "execution_count": 7,
   "outputs": [],
   "source": [
    "# Если в регионах нет объектов, заполним нулями\n",
    "gdf_regions['object_count'] = gdf_regions['object_count'].fillna(0)"
   ],
   "metadata": {
    "collapsed": false,
    "ExecuteTime": {
     "end_time": "2024-05-28T20:11:03.041962400Z",
     "start_time": "2024-05-28T20:11:02.987760Z"
    }
   },
   "id": "a08ed07263bbb5ae"
  },
  {
   "cell_type": "code",
   "execution_count": 8,
   "outputs": [
    {
     "data": {
      "text/plain": "                                     region  \\\n0                            Алтайский край   \n1                          Амурская область   \n2                     Архангельская область   \n3                      Астраханская область   \n4                      Белгородская область   \n..                                      ...   \n80          Ямало-Ненецкий автономный округ   \n81                      Ярославская область   \n82                                г. Москва   \n83                       г. Санкт-Петербург   \n84  город федерального значения Севастополь   \n\n                                             geometry  \\\n0   POLYGON ((82.80364 50.94067, 82.78856 50.94470...   \n1   POLYGON ((131.38809 49.25325, 131.28198 49.250...   \n2   MULTIPOLYGON (((36.77240 63.91510, 36.77083 63...   \n3   POLYGON ((47.59436 45.44006, 47.58152 45.44518...   \n4   POLYGON ((38.93024 49.82358, 38.92225 49.83007...   \n..                                                ...   \n80  MULTIPOLYGON (((65.99583 69.06250, 65.99375 69...   \n81  POLYGON ((38.32256 56.75940, 38.27213 56.80248...   \n82  MULTIPOLYGON (((37.24789 55.58891, 37.24775 55...   \n83  MULTIPOLYGON (((29.71917 59.97542, 29.71917 59...   \n84  POLYGON ((33.09120 44.57529, 33.09234 44.56113...   \n\n                             Region  object_count  \n0                               NaN           0.0  \n1                  Амурская область           3.0  \n2                               NaN           0.0  \n3                               NaN           0.0  \n4              Белгородская область           6.0  \n..                              ...           ...  \n80  Ямало-Ненецкий автономный округ           1.0  \n81              Ярославская область           9.0  \n82                              NaN           0.0  \n83               г. Санкт-Петербург          21.0  \n84                              NaN           0.0  \n\n[85 rows x 4 columns]",
      "text/html": "<div>\n<style scoped>\n    .dataframe tbody tr th:only-of-type {\n        vertical-align: middle;\n    }\n\n    .dataframe tbody tr th {\n        vertical-align: top;\n    }\n\n    .dataframe thead th {\n        text-align: right;\n    }\n</style>\n<table border=\"1\" class=\"dataframe\">\n  <thead>\n    <tr style=\"text-align: right;\">\n      <th></th>\n      <th>region</th>\n      <th>geometry</th>\n      <th>Region</th>\n      <th>object_count</th>\n    </tr>\n  </thead>\n  <tbody>\n    <tr>\n      <th>0</th>\n      <td>Алтайский край</td>\n      <td>POLYGON ((82.80364 50.94067, 82.78856 50.94470...</td>\n      <td>NaN</td>\n      <td>0.0</td>\n    </tr>\n    <tr>\n      <th>1</th>\n      <td>Амурская область</td>\n      <td>POLYGON ((131.38809 49.25325, 131.28198 49.250...</td>\n      <td>Амурская область</td>\n      <td>3.0</td>\n    </tr>\n    <tr>\n      <th>2</th>\n      <td>Архангельская область</td>\n      <td>MULTIPOLYGON (((36.77240 63.91510, 36.77083 63...</td>\n      <td>NaN</td>\n      <td>0.0</td>\n    </tr>\n    <tr>\n      <th>3</th>\n      <td>Астраханская область</td>\n      <td>POLYGON ((47.59436 45.44006, 47.58152 45.44518...</td>\n      <td>NaN</td>\n      <td>0.0</td>\n    </tr>\n    <tr>\n      <th>4</th>\n      <td>Белгородская область</td>\n      <td>POLYGON ((38.93024 49.82358, 38.92225 49.83007...</td>\n      <td>Белгородская область</td>\n      <td>6.0</td>\n    </tr>\n    <tr>\n      <th>...</th>\n      <td>...</td>\n      <td>...</td>\n      <td>...</td>\n      <td>...</td>\n    </tr>\n    <tr>\n      <th>80</th>\n      <td>Ямало-Ненецкий автономный округ</td>\n      <td>MULTIPOLYGON (((65.99583 69.06250, 65.99375 69...</td>\n      <td>Ямало-Ненецкий автономный округ</td>\n      <td>1.0</td>\n    </tr>\n    <tr>\n      <th>81</th>\n      <td>Ярославская область</td>\n      <td>POLYGON ((38.32256 56.75940, 38.27213 56.80248...</td>\n      <td>Ярославская область</td>\n      <td>9.0</td>\n    </tr>\n    <tr>\n      <th>82</th>\n      <td>г. Москва</td>\n      <td>MULTIPOLYGON (((37.24789 55.58891, 37.24775 55...</td>\n      <td>NaN</td>\n      <td>0.0</td>\n    </tr>\n    <tr>\n      <th>83</th>\n      <td>г. Санкт-Петербург</td>\n      <td>MULTIPOLYGON (((29.71917 59.97542, 29.71917 59...</td>\n      <td>г. Санкт-Петербург</td>\n      <td>21.0</td>\n    </tr>\n    <tr>\n      <th>84</th>\n      <td>город федерального значения Севастополь</td>\n      <td>POLYGON ((33.09120 44.57529, 33.09234 44.56113...</td>\n      <td>NaN</td>\n      <td>0.0</td>\n    </tr>\n  </tbody>\n</table>\n<p>85 rows × 4 columns</p>\n</div>"
     },
     "execution_count": 8,
     "metadata": {},
     "output_type": "execute_result"
    }
   ],
   "source": [
    "gdf_regions"
   ],
   "metadata": {
    "collapsed": false,
    "ExecuteTime": {
     "end_time": "2024-05-28T20:11:04.748322800Z",
     "start_time": "2024-05-28T20:11:02.996864800Z"
    }
   },
   "id": "a22b2a857279c7f9"
  },
  {
   "cell_type": "code",
   "execution_count": 9,
   "outputs": [],
   "source": [
    "\n",
    "latitude = 55\n",
    "longitude = 37\n",
    "m = folium.Map(location=[latitude, longitude], zoom_start=10) "
   ],
   "metadata": {
    "collapsed": false,
    "ExecuteTime": {
     "end_time": "2024-05-28T20:11:04.760505900Z",
     "start_time": "2024-05-28T20:11:04.742306900Z"
    }
   },
   "id": "9ef4c5b4f1365859"
  },
  {
   "cell_type": "code",
   "execution_count": 10,
   "outputs": [],
   "source": [
    "\n",
    "heat_data = [(row.geometry.centroid.y, row.geometry.centroid.x, row.object_count)\n",
    "             for idx, row in gdf_regions.iterrows() if row.object_count > 0]\n",
    "\n",
    "HeatMap(heat_data).add_to(m)\n",
    "\n",
    "m.save('heatmaps/heatmap_all.html')"
   ],
   "metadata": {
    "collapsed": false,
    "ExecuteTime": {
     "end_time": "2024-05-28T20:11:04.894768Z",
     "start_time": "2024-05-28T20:11:04.756428900Z"
    }
   },
   "id": "e0c604707ddd74b7"
  },
  {
   "cell_type": "markdown",
   "source": [
    "Сделаем файлики с тепловыми картами для каждого кластера"
   ],
   "metadata": {
    "collapsed": false
   },
   "id": "aa6807fddc937481"
  },
  {
   "cell_type": "code",
   "execution_count": 11,
   "outputs": [],
   "source": [
    "latitude = 55\n",
    "longitude = 37\n",
    "for cluster in range(1, df_cluster['cluster'].max() + 1):\n",
    "    m = folium.Map(location=[latitude, longitude], zoom_start=10)\n",
    "    objects_by_region = df_cluster[df_cluster['cluster']==cluster]['Region'].value_counts().reset_index()\n",
    "    objects_by_region.columns = ['Region', 'object_count']\n",
    "    gdf_regions = gdf.merge(objects_by_region, how=\"left\", left_on='region', right_on='Region')\n",
    "    gdf_regions['object_count'] = gdf_regions['object_count'].fillna(0)\n",
    "    \n",
    "    heat_data = [(row.geometry.centroid.y, row.geometry.centroid.x, row.object_count)\n",
    "                 for idx, row in gdf_regions.iterrows() if row.object_count > 0]\n",
    "    \n",
    "    HeatMap(heat_data).add_to(m)\n",
    "    \n",
    "    m.save(f'heatmaps/heatmap_{cluster}.html')"
   ],
   "metadata": {
    "collapsed": false,
    "ExecuteTime": {
     "end_time": "2024-05-28T20:11:05.057614100Z",
     "start_time": "2024-05-28T20:11:04.839205900Z"
    }
   },
   "id": "637b213d61765197"
  },
  {
   "cell_type": "code",
   "execution_count": 11,
   "outputs": [],
   "source": [],
   "metadata": {
    "collapsed": false,
    "ExecuteTime": {
     "end_time": "2024-05-28T20:11:05.070254300Z",
     "start_time": "2024-05-28T20:11:05.060713100Z"
    }
   },
   "id": "3b53b09fb49e5513"
  }
 ],
 "metadata": {
  "kernelspec": {
   "display_name": "Python 3",
   "language": "python",
   "name": "python3"
  },
  "language_info": {
   "codemirror_mode": {
    "name": "ipython",
    "version": 2
   },
   "file_extension": ".py",
   "mimetype": "text/x-python",
   "name": "python",
   "nbconvert_exporter": "python",
   "pygments_lexer": "ipython2",
   "version": "2.7.6"
  }
 },
 "nbformat": 4,
 "nbformat_minor": 5
}
